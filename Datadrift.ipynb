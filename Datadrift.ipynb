{
 "cells": [
  {
   "cell_type": "code",
   "execution_count": 1,
   "id": "ecec4ef1-4fa6-4f70-b062-9793c8f0b671",
   "metadata": {},
   "outputs": [],
   "source": [
    "import evidently\n",
    "import time \n",
    "from evidently.report import Report\n",
    "from evidently.metric_preset import DataDriftPreset\n",
    "import pandas as pd "
   ]
  },
  {
   "cell_type": "code",
   "execution_count": 2,
   "id": "ebdaa5ab-4f93-47a6-af88-54247f3e88fa",
   "metadata": {},
   "outputs": [],
   "source": [
    "df = pd.read_csv(\"dataframe_final.csv\")"
   ]
  },
  {
   "cell_type": "code",
   "execution_count": 3,
   "id": "8a4749e2-d0dc-4058-8c45-44e4b8c97808",
   "metadata": {},
   "outputs": [
    {
     "name": "stdout",
     "output_type": "stream",
     "text": [
      "train_df shape : (307507, 797)\n",
      "test_df shape : (48744, 797)\n"
     ]
    }
   ],
   "source": [
    "train_df = df[df['TARGET'].notnull()]\n",
    "test_df = df[df['TARGET'].isnull()]\n",
    "\n",
    "print(f'train_df shape : {train_df.shape}')\n",
    "print(f'test_df shape : {test_df.shape}')"
   ]
  },
  {
   "cell_type": "code",
   "execution_count": 4,
   "id": "737dae1f-ec76-4120-a788-b45106c7dfd3",
   "metadata": {},
   "outputs": [
    {
     "name": "stdout",
     "output_type": "stream",
     "text": [
      "train_df shape : (307507, 795)\n",
      "test_df shape : (48744, 795)\n"
     ]
    }
   ],
   "source": [
    "train_df.drop(columns=['SK_ID_CURR','TARGET'], inplace=True)\n",
    "test_df.drop(columns=['SK_ID_CURR','TARGET'], inplace=True)\n",
    "\n",
    "print(f'train_df shape : {train_df.shape}')\n",
    "print(f'test_df shape : {test_df.shape}')"
   ]
  },
  {
   "cell_type": "code",
   "execution_count": 5,
   "id": "1ccd62f9-ee5d-44dd-b77b-090ba63b443c",
   "metadata": {},
   "outputs": [],
   "source": [
    "features_importances = pd.read_csv(\"shapGlobalSorted.csv\")"
   ]
  },
  {
   "cell_type": "code",
   "execution_count": 13,
   "id": "74444ced-eb97-4f9e-9b56-d5cc4684cdef",
   "metadata": {},
   "outputs": [],
   "source": [
    "top30 = features_importances['Features'][:30].to_list()"
   ]
  },
  {
   "cell_type": "code",
   "execution_count": 16,
   "id": "7179b5fd-7b2a-48a5-b35d-a08d0d62fcef",
   "metadata": {},
   "outputs": [
    {
     "name": "stdout",
     "output_type": "stream",
     "text": [
      "train_df_30 shape : (307507, 30)\n",
      "test_df_30 shape : (48744, 30)\n"
     ]
    }
   ],
   "source": [
    "train_df_30 = train_df[top30]\n",
    "test_df_30 = test_df[top30]\n",
    "\n",
    "print(f'train_df_30 shape : {train_df_30.shape}')\n",
    "print(f'test_df_30 shape : {test_df_30.shape}')"
   ]
  },
  {
   "cell_type": "code",
   "execution_count": 17,
   "id": "bdd2c36d-70ea-4319-9d28-9f96b5c066f3",
   "metadata": {},
   "outputs": [
    {
     "name": "stdout",
     "output_type": "stream",
     "text": [
      "CPU times: total: 15 s\n",
      "Wall time: 18.9 s\n"
     ]
    }
   ],
   "source": [
    "%%time\n",
    "\n",
    "data_drift_report = Report(metrics=[\n",
    "    DataDriftPreset(),\n",
    "])\n",
    "\n",
    "data_drift_report.run(reference_data=train_df_30, current_data=test_df_30)"
   ]
  },
  {
   "cell_type": "code",
   "execution_count": 18,
   "id": "44a6ad90-519b-4883-8677-b56ebc1abfcf",
   "metadata": {},
   "outputs": [],
   "source": [
    "data_drift_report.save_html('data_drift_report.html')"
   ]
  }
 ],
 "metadata": {
  "kernelspec": {
   "display_name": "Python 3 (ipykernel)",
   "language": "python",
   "name": "python3"
  },
  "language_info": {
   "codemirror_mode": {
    "name": "ipython",
    "version": 3
   },
   "file_extension": ".py",
   "mimetype": "text/x-python",
   "name": "python",
   "nbconvert_exporter": "python",
   "pygments_lexer": "ipython3",
   "version": "3.11.7"
  }
 },
 "nbformat": 4,
 "nbformat_minor": 5
}
