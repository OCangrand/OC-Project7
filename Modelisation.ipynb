{
 "cells": [
  {
   "cell_type": "code",
   "execution_count": 64,
   "id": "8d6915a2-2985-48db-a419-9a3197b4213f",
   "metadata": {},
   "outputs": [
    {
     "name": "stderr",
     "output_type": "stream",
     "text": [
      "2024/01/30 16:56:53 INFO mlflow.tracking.fluent: Autologging successfully enabled for tensorflow.\n"
     ]
    }
   ],
   "source": [
    "import numpy as np\n",
    "import pandas as pd\n",
    "import os\n",
    "\n",
    "# Suppress warnings \n",
    "import warnings\n",
    "warnings.filterwarnings('ignore')\n",
    "\n",
    "import matplotlib.pyplot as plt\n",
    "import seaborn as sns\n",
    "\n",
    "import time\n",
    "import re\n",
    "import mlflow\n",
    "import tensorflow as tf\n",
    "from mlflow.models import infer_signature\n",
    "from sklearn.linear_model import LogisticRegression\n",
    "from sklearn.model_selection import GridSearchCV\n",
    "from sklearn.preprocessing import StandardScaler\n",
    "from lightgbm import LGBMClassifier\n",
    "from sklearn.metrics import roc_auc_score, roc_curve, classification_report, confusion_matrix\n",
    "from sklearn.model_selection import KFold, StratifiedKFold"
   ]
  },
  {
   "cell_type": "code",
   "execution_count": 65,
   "id": "e51011ce-2ae8-45ce-a8f6-dc211befe8e9",
   "metadata": {},
   "outputs": [
    {
     "name": "stdout",
     "output_type": "stream",
     "text": [
      "['/device:CPU:0', '/device:GPU:0']\n"
     ]
    }
   ],
   "source": [
    "from tensorflow.python.client import device_lib\n",
    "\n",
    "def get_available_devices():\n",
    "    local_device_protos = device_lib.list_local_devices()\n",
    "    return [x.name for x in local_device_protos]\n",
    "\n",
    "print(get_available_devices())"
   ]
  },
  {
   "cell_type": "code",
   "execution_count": 2,
   "id": "855ad7cf-3031-4d59-bb6e-ca450c777b3a",
   "metadata": {},
   "outputs": [],
   "source": [
    "df = pd.read_csv(\"dataframe_final.csv\")"
   ]
  },
  {
   "cell_type": "markdown",
   "id": "108f0bfa-b5ce-4fd4-81ca-1b660c7368c6",
   "metadata": {},
   "source": [
    "On divise notre dataframe en train et test en fonction de la présence de l'information dans 'TARGET'."
   ]
  },
  {
   "cell_type": "code",
   "execution_count": 3,
   "id": "dd138cdb-c3b7-4347-8809-2023abc369be",
   "metadata": {},
   "outputs": [
    {
     "name": "stdout",
     "output_type": "stream",
     "text": [
      "train_df shape : (307507, 797)\n",
      "test_df shape : (48744, 797)\n"
     ]
    }
   ],
   "source": [
    "train_df = df[df['TARGET'].notnull()]\n",
    "test_df = df[df['TARGET'].isnull()]\n",
    "\n",
    "print(f'train_df shape : {train_df.shape}')\n",
    "print(f'test_df shape : {test_df.shape}')"
   ]
  },
  {
   "cell_type": "code",
   "execution_count": 4,
   "id": "2519454e-a638-4ad9-b96a-f6052afb36af",
   "metadata": {},
   "outputs": [],
   "source": [
    "# To start the mlflow server in local : mlflow server --host 127.0.0.1 --port 8080\n",
    "\n",
    "mlflow.set_tracking_uri(uri=\"http://127.0.0.1:8080\")\n",
    "mlflow.set_experiment(\"Project7_LRnoSMOTE\")"
   ]
  },
  {
   "cell_type": "code",
   "execution_count": 52,
   "id": "36277588-9720-44d4-a00e-05cc39f901b3",
   "metadata": {},
   "outputs": [],
   "source": [
    "def calcul_metrics(model, X, y):\n",
    "    \"\"\"Fonction de calcul des metriques précision, AUC et score_metier en fonction du modèle en entrée. Retourne un dictionnaire.\"\"\"\n",
    "    metrics = {}\n",
    "    \n",
    "    accuracy = model.score(X, y)\n",
    "    print(f'Précision : {accuracy:.2f}')\n",
    "    metrics['accuracy'] = accuracy\n",
    "    \n",
    "    roc_auc = roc_auc_score(y, model.predict_proba(X)[:,1])\n",
    "    print(f'AUC : {roc_auc:.2f}')\n",
    "    metrics['roc_auc'] = roc_auc\n",
    "\n",
    "    cf_matrix = confusion_matrix(y, model.predict(X))\n",
    "    FN = cf_matrix[1,0]\n",
    "    FP = cf_matrix[0,1]\n",
    "    score_metier = 10*FN+FP\n",
    "    print(f'Score métier : {score_metier}')\n",
    "    metrics['score_metier'] = score_metier\n",
    "\n",
    "    return metrics\n",
    "    "
   ]
  },
  {
   "cell_type": "code",
   "execution_count": 74,
   "id": "ad0a0b72-263f-4c4c-8563-d1f2dab1babe",
   "metadata": {},
   "outputs": [],
   "source": [
    "def logToMLflow(model, X, metrics, params=\"\", training_tag=\"\"):\n",
    "    # Start an MLflow run\n",
    "    with mlflow.start_run():\n",
    "        # Log the hyperparameters\n",
    "        if params:\n",
    "            mlflow.log_params(params)\n",
    "    \n",
    "        # Log the loss metric\n",
    "        mlflow.log_metric(\"accuracy\", metrics['accuracy'])\n",
    "        mlflow.log_metric(\"roc_auc\", metrics['roc_auc'])\n",
    "        mlflow.log_metric(\"score_metier\", metrics['score_metier'])\n",
    "    \n",
    "        # Set a tag that we can use to remind ourselves what this run was for\n",
    "        if training_tag:\n",
    "            mlflow.set_tag(\"Training Info\", training_tag)\n",
    "    \n",
    "        # Infer the model signature\n",
    "        signature = infer_signature(X, model.predict(X))\n",
    "    \n",
    "        # Log the model\n",
    "        mlflow.sklearn.log_model(model, 'model', signature=signature)\n",
    "        \n",
    "        \"\"\"model_info = mlflow.sklearn.log_model(\n",
    "            sk_model=lr,\n",
    "            artifact_path=\"dataframe_final.csv\",\n",
    "            signature=signature,\n",
    "            input_example=train_x,\n",
    "            registered_model_name=\"lr-first\",\n",
    "        )\"\"\""
   ]
  },
  {
   "cell_type": "code",
   "execution_count": 61,
   "id": "4a18a66b-dd23-43fa-a77a-cae8b2bad524",
   "metadata": {},
   "outputs": [],
   "source": [
    "#Fonction prise dans le cours pour afficher les résultats d'un GridSearch.\n",
    "\n",
    "def resultizeGrid(grid):\n",
    "    res = grid.cv_results_\n",
    "    res = pd.DataFrame(res)\n",
    "    cols = [i for i in res.columns if \"split\" not in i]\n",
    "    res = res[cols]\n",
    "    res = res.sort_values('rank_test_score')\n",
    "    \n",
    "    return res"
   ]
  },
  {
   "cell_type": "markdown",
   "id": "2d0f717d-114e-414a-83f2-59944360e2ad",
   "metadata": {},
   "source": [
    "# LOGISTIC REGRESSION"
   ]
  },
  {
   "cell_type": "code",
   "execution_count": 6,
   "id": "2b11cc7b-10a8-44fb-acbb-9be5fc2f4caf",
   "metadata": {},
   "outputs": [],
   "source": [
    "folds = KFold(n_splits=10, shuffle=True, random_state=1001)\n",
    "feats = [f for f in train_df.columns if f not in ['TARGET','SK_ID_CURR','SK_ID_BUREAU','SK_ID_PREV','index']]\n",
    "\n",
    "for n_fold, (train_idx, valid_idx) in enumerate(folds.split(train_df[feats], train_df['TARGET'])):\n",
    "    train_x, train_y = train_df[feats].iloc[train_idx], train_df['TARGET'].iloc[train_idx]\n",
    "    valid_x, valid_y = train_df[feats].iloc[valid_idx], train_df['TARGET'].iloc[valid_idx]\n"
   ]
  },
  {
   "cell_type": "code",
   "execution_count": 7,
   "id": "f157849a-b5cb-4f94-8e7b-189be9d90350",
   "metadata": {},
   "outputs": [],
   "source": [
    "from sklearn.impute import SimpleImputer\n",
    "\n",
    "train_x.replace([np.inf, -np.inf], np.nan, inplace=True)\n",
    "valid_x.replace([np.inf, -np.inf], np.nan, inplace=True)\n",
    "imp = SimpleImputer(missing_values=np.nan, strategy='mean')\n",
    "train_x = imp.fit_transform(train_x)\n",
    "valid_x = imp.fit_transform(valid_x)"
   ]
  },
  {
   "cell_type": "markdown",
   "id": "4503920b-5351-491f-9a05-6be040e45dc3",
   "metadata": {},
   "source": [
    "## Without SMOTE"
   ]
  },
  {
   "cell_type": "markdown",
   "id": "9d48920f-015c-485c-9965-77520aa7342d",
   "metadata": {},
   "source": [
    "Gestion des valeurs manquantes."
   ]
  },
  {
   "cell_type": "code",
   "execution_count": 48,
   "id": "caa68eca-0ecc-4ef6-a6fe-1fc5d09e85a0",
   "metadata": {
    "scrolled": true
   },
   "outputs": [
    {
     "name": "stdout",
     "output_type": "stream",
     "text": [
      "Précision : 0.92\n",
      "AUC : 0.53\n",
      "Score métier : 24515\n",
      "              precision    recall  f1-score   support\n",
      "\n",
      "         0.0       0.92      1.00      0.96     28297\n",
      "         1.0       0.12      0.00      0.00      2453\n",
      "\n",
      "    accuracy                           0.92     30750\n",
      "   macro avg       0.52      0.50      0.48     30750\n",
      "weighted avg       0.86      0.92      0.88     30750\n",
      "\n",
      "CPU times: total: 2min 16s\n",
      "Wall time: 19.3 s\n"
     ]
    }
   ],
   "source": [
    "%%time\n",
    "\n",
    "lr = LogisticRegression(random_state=0)\n",
    "lr.fit(train_x, train_y)\n",
    "\n",
    "metrics = calcul_metrics(lr, valid_x, valid_y)\n",
    "print(classification_report(valid_y, lr.predict(valid_x)))\n",
    "\n",
    "logToMLflow(lr, train_x, metrics, training_tag=\"Basic LR model no SMOTE no param\")"
   ]
  },
  {
   "cell_type": "code",
   "execution_count": 9,
   "id": "37889e53-f3b7-4fc0-9179-b69da047c68f",
   "metadata": {},
   "outputs": [
    {
     "data": {
      "text/plain": [
       "<Axes: >"
      ]
     },
     "execution_count": 9,
     "metadata": {},
     "output_type": "execute_result"
    },
    {
     "data": {
      "image/png": "[encoded data removed]",
      "text/plain": [
       "<Figure size 640x480 with 2 Axes>"
      ]
     },
     "metadata": {},
     "output_type": "display_data"
    }
   ],
   "source": [
    "cf_matrix = confusion_matrix(valid_y, lr.predict(valid_x))\n",
    "group_names = ['True Neg', 'False Pos', 'False Neg', 'True Pos']\n",
    "group_counts = [\"{0:0.0f}\".format(value) for value in cf_matrix.flatten()]\n",
    "group_percentages = [\"{0:.2%}\".format(value) for value in cf_matrix.flatten()/np.sum(cf_matrix)]\n",
    "  \n",
    "labels = [f\"{v1}\\n{v2}\\n{v3}\" for v1, v2, v3 in zip(group_names,group_counts,group_percentages)]\n",
    "labels = np.asarray(labels).reshape(2,2)\n",
    "sns.heatmap(cf_matrix, annot=labels, fmt=\"\", cmap='Blues')"
   ]
  },
  {
   "cell_type": "markdown",
   "id": "82ef5537-7f60-49d6-8402-afbf32124d3e",
   "metadata": {},
   "source": [
    "## With SMOTE"
   ]
  },
  {
   "cell_type": "code",
   "execution_count": 68,
   "id": "16ffd100-2371-4dfc-9a41-d001bd7f1fe7",
   "metadata": {},
   "outputs": [
    {
     "name": "stdout",
     "output_type": "stream",
     "text": [
      "tuned hpyerparameters :(best parameters)  {'model__C': 1.0}\n",
      "accuracy : 0.5455892893428339\n",
      "CPU times: total: 2h 5min 33s\n",
      "Wall time: 17min 23s\n"
     ]
    },
    {
     "data": {
      "text/html": [
       "<div>\n",
       "<style scoped>\n",
       "    .dataframe tbody tr th:only-of-type {\n",
       "        vertical-align: middle;\n",
       "    }\n",
       "\n",
       "    .dataframe tbody tr th {\n",
       "        vertical-align: top;\n",
       "    }\n",
       "\n",
       "    .dataframe thead th {\n",
       "        text-align: right;\n",
       "    }\n",
       "</style>\n",
       "<table border=\"1\" class=\"dataframe\">\n",
       "  <thead>\n",
       "    <tr style=\"text-align: right;\">\n",
       "      <th></th>\n",
       "      <th>mean_fit_time</th>\n",
       "      <th>std_fit_time</th>\n",
       "      <th>mean_score_time</th>\n",
       "      <th>std_score_time</th>\n",
       "      <th>param_model__C</th>\n",
       "      <th>params</th>\n",
       "      <th>mean_test_score</th>\n",
       "      <th>std_test_score</th>\n",
       "      <th>rank_test_score</th>\n",
       "    </tr>\n",
       "  </thead>\n",
       "  <tbody>\n",
       "    <tr>\n",
       "      <th>3</th>\n",
       "      <td>27.440255</td>\n",
       "      <td>0.576883</td>\n",
       "      <td>0.063846</td>\n",
       "      <td>0.001934</td>\n",
       "      <td>1.0</td>\n",
       "      <td>{'model__C': 1.0}</td>\n",
       "      <td>0.545589</td>\n",
       "      <td>0.002383</td>\n",
       "      <td>1</td>\n",
       "    </tr>\n",
       "    <tr>\n",
       "      <th>1</th>\n",
       "      <td>28.957493</td>\n",
       "      <td>0.586720</td>\n",
       "      <td>0.064010</td>\n",
       "      <td>0.001669</td>\n",
       "      <td>0.01</td>\n",
       "      <td>{'model__C': 0.01}</td>\n",
       "      <td>0.545252</td>\n",
       "      <td>0.002431</td>\n",
       "      <td>2</td>\n",
       "    </tr>\n",
       "    <tr>\n",
       "      <th>2</th>\n",
       "      <td>27.356862</td>\n",
       "      <td>1.033711</td>\n",
       "      <td>0.083898</td>\n",
       "      <td>0.042110</td>\n",
       "      <td>0.1</td>\n",
       "      <td>{'model__C': 0.1}</td>\n",
       "      <td>0.545239</td>\n",
       "      <td>0.001672</td>\n",
       "      <td>3</td>\n",
       "    </tr>\n",
       "    <tr>\n",
       "      <th>4</th>\n",
       "      <td>26.795894</td>\n",
       "      <td>0.589767</td>\n",
       "      <td>0.062828</td>\n",
       "      <td>0.001007</td>\n",
       "      <td>10.0</td>\n",
       "      <td>{'model__C': 10.0}</td>\n",
       "      <td>0.545115</td>\n",
       "      <td>0.001814</td>\n",
       "      <td>4</td>\n",
       "    </tr>\n",
       "    <tr>\n",
       "      <th>5</th>\n",
       "      <td>28.897548</td>\n",
       "      <td>1.172537</td>\n",
       "      <td>0.065416</td>\n",
       "      <td>0.002737</td>\n",
       "      <td>100.0</td>\n",
       "      <td>{'model__C': 100.0}</td>\n",
       "      <td>0.545115</td>\n",
       "      <td>0.001814</td>\n",
       "      <td>4</td>\n",
       "    </tr>\n",
       "    <tr>\n",
       "      <th>6</th>\n",
       "      <td>30.917458</td>\n",
       "      <td>0.880646</td>\n",
       "      <td>0.090948</td>\n",
       "      <td>0.031255</td>\n",
       "      <td>1000.0</td>\n",
       "      <td>{'model__C': 1000.0}</td>\n",
       "      <td>0.545115</td>\n",
       "      <td>0.001814</td>\n",
       "      <td>4</td>\n",
       "    </tr>\n",
       "    <tr>\n",
       "      <th>0</th>\n",
       "      <td>29.655802</td>\n",
       "      <td>2.043641</td>\n",
       "      <td>0.113709</td>\n",
       "      <td>0.100283</td>\n",
       "      <td>0.001</td>\n",
       "      <td>{'model__C': 0.001}</td>\n",
       "      <td>0.544911</td>\n",
       "      <td>0.002312</td>\n",
       "      <td>7</td>\n",
       "    </tr>\n",
       "  </tbody>\n",
       "</table>\n",
       "</div>"
      ],
      "text/plain": [
       "   mean_fit_time  std_fit_time  mean_score_time  std_score_time  \\\n",
       "3      27.440255      0.576883         0.063846        0.001934   \n",
       "1      28.957493      0.586720         0.064010        0.001669   \n",
       "2      27.356862      1.033711         0.083898        0.042110   \n",
       "4      26.795894      0.589767         0.062828        0.001007   \n",
       "5      28.897548      1.172537         0.065416        0.002737   \n",
       "6      30.917458      0.880646         0.090948        0.031255   \n",
       "0      29.655802      2.043641         0.113709        0.100283   \n",
       "\n",
       "  param_model__C                params  mean_test_score  std_test_score  \\\n",
       "3            1.0     {'model__C': 1.0}         0.545589        0.002383   \n",
       "1           0.01    {'model__C': 0.01}         0.545252        0.002431   \n",
       "2            0.1     {'model__C': 0.1}         0.545239        0.001672   \n",
       "4           10.0    {'model__C': 10.0}         0.545115        0.001814   \n",
       "5          100.0   {'model__C': 100.0}         0.545115        0.001814   \n",
       "6         1000.0  {'model__C': 1000.0}         0.545115        0.001814   \n",
       "0          0.001   {'model__C': 0.001}         0.544911        0.002312   \n",
       "\n",
       "   rank_test_score  \n",
       "3                1  \n",
       "1                2  \n",
       "2                3  \n",
       "4                4  \n",
       "5                4  \n",
       "6                4  \n",
       "0                7  "
      ]
     },
     "execution_count": 68,
     "metadata": {},
     "output_type": "execute_result"
    }
   ],
   "source": [
    "%%time\n",
    "\n",
    "params = {\n",
    "    \"model__C\":np.logspace(-3, 3, 7)#,\n",
    "    #\"model__penalty\":['l1', 'l2']\n",
    "}\n",
    "\n",
    "steps = [('over', SMOTE(random_state=0)), ('model', LogisticRegression(random_state=0))]\n",
    "pipeline = Pipeline(steps=steps)\n",
    "GS = GridSearchCV(pipeline, params, scoring='roc_auc')\n",
    "\n",
    "GS.fit(train_x, train_y)\n",
    "\n",
    "print(\"tuned hpyerparameters :(best parameters) \",GS.best_params_)\n",
    "print(\"accuracy :\",GS.best_score_)\n",
    "resultizeGrid(GS)"
   ]
  },
  {
   "cell_type": "code",
   "execution_count": 75,
   "id": "7338d876-bc3f-45fe-9874-c5c443fa371b",
   "metadata": {},
   "outputs": [
    {
     "name": "stdout",
     "output_type": "stream",
     "text": [
      "Précision : 0.80\n",
      "AUC : 0.54\n",
      "Score métier : 23932\n",
      "              precision    recall  f1-score   support\n",
      "\n",
      "         0.0       0.92      0.86      0.89     28297\n",
      "         1.0       0.10      0.19      0.13      2453\n",
      "\n",
      "    accuracy                           0.80     30750\n",
      "   macro avg       0.51      0.52      0.51     30750\n",
      "weighted avg       0.86      0.80      0.83     30750\n",
      "\n",
      "CPU times: total: 1.42 s\n",
      "Wall time: 8.12 s\n"
     ]
    }
   ],
   "source": [
    "%%time\n",
    "\n",
    "metrics = calcul_metrics(GS.best_estimator_, valid_x, valid_y)\n",
    "print(classification_report(valid_y, GS.best_estimator_.predict(valid_x)))\n",
    "\n",
    "logToMLflow(GS.best_estimator_, train_x, metrics, params=GS.best_params_, training_tag=\"Basic LR model with SMOTE\")"
   ]
  },
  {
   "cell_type": "code",
   "execution_count": 53,
   "id": "a938a103-5756-4283-8968-46fa40867a94",
   "metadata": {},
   "outputs": [
    {
     "name": "stdout",
     "output_type": "stream",
     "text": [
      "Précision : 0.80\n",
      "AUC : 0.54\n",
      "Score métier : 23932\n",
      "              precision    recall  f1-score   support\n",
      "\n",
      "         0.0       0.92      0.86      0.89     28297\n",
      "         1.0       0.10      0.19      0.13      2453\n",
      "\n",
      "    accuracy                           0.80     30750\n",
      "   macro avg       0.51      0.52      0.51     30750\n",
      "weighted avg       0.86      0.80      0.83     30750\n",
      "\n",
      "CPU times: total: 4min 35s\n",
      "Wall time: 38.3 s\n"
     ]
    }
   ],
   "source": [
    "%%time\n",
    "\n",
    "from imblearn.pipeline import Pipeline\n",
    "from imblearn.over_sampling import SMOTE\n",
    "\n",
    "\n",
    "\n",
    "steps = [('over', SMOTE(random_state=0)), ('model', LogisticRegression(random_state=0))]\n",
    "pipeline = Pipeline(steps=steps)\n",
    "pipeline.fit(train_x, train_y)\n",
    "\n",
    "metrics = calcul_metrics(pipeline, valid_x, valid_y)\n",
    "print(classification_report(valid_y, pipeline.predict(valid_x)))\n",
    "\n",
    "logToMLflow(lr, train_x, metrics, training_tag=\"Basic LR model with SMOTE no param\")"
   ]
  },
  {
   "cell_type": "code",
   "execution_count": 51,
   "id": "5662f195-17c7-4bab-8c66-9c865085d21c",
   "metadata": {},
   "outputs": [
    {
     "data": {
      "text/plain": [
       "<Axes: >"
      ]
     },
     "execution_count": 51,
     "metadata": {},
     "output_type": "execute_result"
    },
    {
     "data": {
      "image/png": "[encoded data removed]",
      "text/plain": [
       "<Figure size 640x480 with 2 Axes>"
      ]
     },
     "metadata": {},
     "output_type": "display_data"
    }
   ],
   "source": [
    "cf_matrix = confusion_matrix(valid_y, pipeline.predict(valid_x))\n",
    "group_names = ['True Neg', 'False Pos', 'False Neg', 'True Pos']\n",
    "group_counts = [\"{0:0.0f}\".format(value) for value in cf_matrix.flatten()]\n",
    "group_percentages = [\"{0:.2%}\".format(value) for value in cf_matrix.flatten()/np.sum(cf_matrix)]\n",
    "  \n",
    "labels = [f\"{v1}\\n{v2}\\n{v3}\" for v1, v2, v3 in zip(group_names,group_counts,group_percentages)]\n",
    "labels = np.asarray(labels).reshape(2,2)\n",
    "sns.heatmap(cf_matrix, annot=labels, fmt=\"\", cmap='Blues')"
   ]
  }
 ],
 "metadata": {
  "kernelspec": {
   "display_name": "Python 3 (ipykernel)",
   "language": "python",
   "name": "python3"
  },
  "language_info": {
   "codemirror_mode": {
    "name": "ipython",
    "version": 3
   },
   "file_extension": ".py",
   "mimetype": "text/x-python",
   "name": "python",
   "nbconvert_exporter": "python",
   "pygments_lexer": "ipython3",
   "version": "3.10.13"
  }
 },
 "nbformat": 4,
 "nbformat_minor": 5
}
