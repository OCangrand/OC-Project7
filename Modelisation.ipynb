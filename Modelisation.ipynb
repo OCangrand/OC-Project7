{
 "cells": [
  {
   "cell_type": "code",
   "execution_count": 10,
   "id": "8d6915a2-2985-48db-a419-9a3197b4213f",
   "metadata": {},
   "outputs": [],
   "source": [
    "import numpy as np\n",
    "import pandas as pd\n",
    "import os\n",
    "\n",
    "# Suppress warnings \n",
    "import warnings\n",
    "warnings.filterwarnings('ignore')\n",
    "\n",
    "import matplotlib.pyplot as plt\n",
    "import seaborn as sns"
   ]
  },
  {
   "cell_type": "code",
   "execution_count": 2,
   "id": "855ad7cf-3031-4d59-bb6e-ca450c777b3a",
   "metadata": {},
   "outputs": [],
   "source": [
    "df = pd.read_csv(\"dataframe_final.csv\")"
   ]
  },
  {
   "cell_type": "markdown",
   "id": "2d0f717d-114e-414a-83f2-59944360e2ad",
   "metadata": {},
   "source": [
    "# LOGISTIC REGRESSION"
   ]
  },
  {
   "cell_type": "code",
   "execution_count": null,
   "id": "2b11cc7b-10a8-44fb-acbb-9be5fc2f4caf",
   "metadata": {},
   "outputs": [],
   "source": []
  },
  {
   "cell_type": "markdown",
   "id": "182e66c8-cf32-4b3e-814b-63b03e85257f",
   "metadata": {},
   "source": [
    "# LINEAR SVC"
   ]
  }
 ],
 "metadata": {
  "kernelspec": {
   "display_name": "Python 3 (ipykernel)",
   "language": "python",
   "name": "python3"
  },
  "language_info": {
   "codemirror_mode": {
    "name": "ipython",
    "version": 3
   },
   "file_extension": ".py",
   "mimetype": "text/x-python",
   "name": "python",
   "nbconvert_exporter": "python",
   "pygments_lexer": "ipython3",
   "version": "3.10.13"
  }
 },
 "nbformat": 4,
 "nbformat_minor": 5
}
